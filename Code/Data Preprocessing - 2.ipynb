{
 "cells": [
  {
   "cell_type": "markdown",
   "metadata": {},
   "source": [
    "## Load Data"
   ]
  },
  {
   "cell_type": "code",
   "execution_count": 48,
   "metadata": {},
   "outputs": [],
   "source": [
    "from opencc import OpenCC\n",
    "import re\n",
    "import pandas\n",
    "import emoji\n",
    "import jieba"
   ]
  },
  {
   "cell_type": "code",
   "execution_count": 25,
   "metadata": {},
   "outputs": [],
   "source": [
    "from pymongo import MongoClient\n",
    "client = MongoClient()"
   ]
  },
  {
   "cell_type": "code",
   "execution_count": 26,
   "metadata": {},
   "outputs": [],
   "source": [
    "db = client.test\n",
    "trData = db.sampleset"
   ]
  },
  {
   "cell_type": "code",
   "execution_count": 27,
   "metadata": {},
   "outputs": [],
   "source": [
    "import pandas as pd"
   ]
  },
  {
   "cell_type": "code",
   "execution_count": 28,
   "metadata": {},
   "outputs": [
    {
     "data": {
      "text/html": [
       "<div>\n",
       "<style scoped>\n",
       "    .dataframe tbody tr th:only-of-type {\n",
       "        vertical-align: middle;\n",
       "    }\n",
       "\n",
       "    .dataframe tbody tr th {\n",
       "        vertical-align: top;\n",
       "    }\n",
       "\n",
       "    .dataframe thead th {\n",
       "        text-align: right;\n",
       "    }\n",
       "</style>\n",
       "<table border=\"1\" class=\"dataframe\">\n",
       "  <thead>\n",
       "    <tr style=\"text-align: right;\">\n",
       "      <th></th>\n",
       "      <th>_id</th>\n",
       "      <th>author</th>\n",
       "      <th>content</th>\n",
       "      <th>copyrightSource</th>\n",
       "      <th>id</th>\n",
       "      <th>last_update</th>\n",
       "      <th>pubSource</th>\n",
       "      <th>pubTime</th>\n",
       "      <th>title</th>\n",
       "      <th>url</th>\n",
       "    </tr>\n",
       "  </thead>\n",
       "  <tbody>\n",
       "    <tr>\n",
       "      <th>0</th>\n",
       "      <td>5a826ea13ed17ebe58f25c61</td>\n",
       "      <td>丘份碗66</td>\n",
       "      <td>【昌河汽车将推2款新车】与北汽集团整车事业本部副本部长、江西昌河汽车有限责任公司副总经理廖雄...</td>\n",
       "      <td>丘份碗66</td>\n",
       "      <td>-9223352888553609071</td>\n",
       "      <td>2018-01-29 22:48:53</td>\n",
       "      <td>新浪微博</td>\n",
       "      <td>1517050815</td>\n",
       "      <td>丘份碗66</td>\n",
       "      <td>http://weibo.com/6142925293/G0mQ3azgA</td>\n",
       "    </tr>\n",
       "    <tr>\n",
       "      <th>1</th>\n",
       "      <td>5a826ea13ed17ebe58f25c62</td>\n",
       "      <td>asd紫衣</td>\n",
       "      <td>这天我差点出事哦，我去买烧烤，公交车，我看到个人像鬼，多少路我忘记了，后来跟着个杨洋的什么广...</td>\n",
       "      <td>asd紫衣</td>\n",
       "      <td>-9223363810167202147</td>\n",
       "      <td>2018-01-15 09:29:57</td>\n",
       "      <td>新浪微博</td>\n",
       "      <td>1515967706</td>\n",
       "      <td>asd紫衣</td>\n",
       "      <td>http://weibo.com/6276804601/FEq78giV6</td>\n",
       "    </tr>\n",
       "    <tr>\n",
       "      <th>2</th>\n",
       "      <td>5a826ea13ed17ebe58f25c63</td>\n",
       "      <td>故事与酒缸</td>\n",
       "      <td>【广菲克产销分离JEEP国产在即】在4月20日举办的上海国际车展上，广菲克展出了包括菲翔米兰...</td>\n",
       "      <td>故事与酒缸</td>\n",
       "      <td>-9223357131622972986</td>\n",
       "      <td>2018-01-11 01:31:56</td>\n",
       "      <td>新浪微博</td>\n",
       "      <td>1515597336</td>\n",
       "      <td>故事与酒缸</td>\n",
       "      <td>http://weibo.com/5759812287/FDLHA0DtI</td>\n",
       "    </tr>\n",
       "    <tr>\n",
       "      <th>3</th>\n",
       "      <td>5a826ea13ed17ebe58f25c64</td>\n",
       "      <td>Caroline_Nine</td>\n",
       "      <td>消防车🚒//@APP菌:哈哈哈哈哈哈哈哈谈个恋爱还不够生气的//@一个阿呆仔:学猪叫那个真笑...</td>\n",
       "      <td>Caroline_Nine</td>\n",
       "      <td>-9223330358968196918</td>\n",
       "      <td>2018-01-20 16:36:19</td>\n",
       "      <td>新浪微博</td>\n",
       "      <td>1516422278</td>\n",
       "      <td>Caroline_Nine</td>\n",
       "      <td>http://weibo.com/1875936727/FFdIjvCCL</td>\n",
       "    </tr>\n",
       "    <tr>\n",
       "      <th>4</th>\n",
       "      <td>5a826ea13ed17ebe58f25c65</td>\n",
       "      <td>qq34314152</td>\n",
       "      <td>【微电影|无处可逃】2017年10月31日上午，[xkl达达黑暗]杨辰和孙彬两位小伙子相约到...</td>\n",
       "      <td>qq34314152</td>\n",
       "      <td>-9223311817460417728</td>\n",
       "      <td>2018-01-21 07:46:52</td>\n",
       "      <td>新浪微博</td>\n",
       "      <td>1516469637</td>\n",
       "      <td>qq34314152</td>\n",
       "      <td>http://weibo.com/2387005072/FFiSHoepC</td>\n",
       "    </tr>\n",
       "  </tbody>\n",
       "</table>\n",
       "</div>"
      ],
      "text/plain": [
       "                        _id         author  \\\n",
       "0  5a826ea13ed17ebe58f25c61          丘份碗66   \n",
       "1  5a826ea13ed17ebe58f25c62          asd紫衣   \n",
       "2  5a826ea13ed17ebe58f25c63          故事与酒缸   \n",
       "3  5a826ea13ed17ebe58f25c64  Caroline_Nine   \n",
       "4  5a826ea13ed17ebe58f25c65     qq34314152   \n",
       "\n",
       "                                             content copyrightSource  \\\n",
       "0  【昌河汽车将推2款新车】与北汽集团整车事业本部副本部长、江西昌河汽车有限责任公司副总经理廖雄...           丘份碗66   \n",
       "1  这天我差点出事哦，我去买烧烤，公交车，我看到个人像鬼，多少路我忘记了，后来跟着个杨洋的什么广...           asd紫衣   \n",
       "2  【广菲克产销分离JEEP国产在即】在4月20日举办的上海国际车展上，广菲克展出了包括菲翔米兰...           故事与酒缸   \n",
       "3  消防车🚒//@APP菌:哈哈哈哈哈哈哈哈谈个恋爱还不够生气的//@一个阿呆仔:学猪叫那个真笑...   Caroline_Nine   \n",
       "4  【微电影|无处可逃】2017年10月31日上午，[xkl达达黑暗]杨辰和孙彬两位小伙子相约到...      qq34314152   \n",
       "\n",
       "                     id          last_update pubSource     pubTime  \\\n",
       "0  -9223352888553609071  2018-01-29 22:48:53      新浪微博  1517050815   \n",
       "1  -9223363810167202147  2018-01-15 09:29:57      新浪微博  1515967706   \n",
       "2  -9223357131622972986  2018-01-11 01:31:56      新浪微博  1515597336   \n",
       "3  -9223330358968196918  2018-01-20 16:36:19      新浪微博  1516422278   \n",
       "4  -9223311817460417728  2018-01-21 07:46:52      新浪微博  1516469637   \n",
       "\n",
       "           title                                    url  \n",
       "0          丘份碗66  http://weibo.com/6142925293/G0mQ3azgA  \n",
       "1          asd紫衣  http://weibo.com/6276804601/FEq78giV6  \n",
       "2          故事与酒缸  http://weibo.com/5759812287/FDLHA0DtI  \n",
       "3  Caroline_Nine  http://weibo.com/1875936727/FFdIjvCCL  \n",
       "4     qq34314152  http://weibo.com/2387005072/FFiSHoepC  "
      ]
     },
     "execution_count": 28,
     "metadata": {},
     "output_type": "execute_result"
    }
   ],
   "source": [
    "trData = trData.find({})\n",
    "trData = list(trData)\n",
    "df_trData = pd.DataFrame(trData)\n",
    "#df_trData.head()"
   ]
  },
  {
   "cell_type": "code",
   "execution_count": 29,
   "metadata": {},
   "outputs": [],
   "source": [
    "df_trData = df_trData[~df_trData['content'].isnull()]"
   ]
  },
  {
   "cell_type": "code",
   "execution_count": 30,
   "metadata": {},
   "outputs": [],
   "source": [
    "df_content = df_trData[['content']]"
   ]
  },
  {
   "cell_type": "code",
   "execution_count": 31,
   "metadata": {},
   "outputs": [],
   "source": [
    "def extract_emojis(str):\n",
    "      return ''.join(c for c in str if c not in emoji.UNICODE_EMOJI)"
   ]
  },
  {
   "cell_type": "code",
   "execution_count": 32,
   "metadata": {},
   "outputs": [],
   "source": [
    "def strQ2B(ustring):\n",
    "    \"\"\"把字符串全角转半角\"\"\"\n",
    "    rstring = \"\"\n",
    "    for uchar in ustring:\n",
    "        inside_code=ord(uchar)\n",
    "        # 全角字符unicode编码从65281~65374 （十六进制 0xFF01 ~ 0xFF5E）\n",
    "        # 半角字符unicode编码从33~126 （十六进制 0x21~ 0x7E）\n",
    "        # 而且除空格外,全角/半角按unicode编码排序在顺序上是对应的\n",
    "        if inside_code==0x3000:\n",
    "            # 空格 全角为0x3000 半角为0x0020\n",
    "            inside_code=0x0020\n",
    "        elif inside_code == 0x3002:\n",
    "            # 中文句号\n",
    "            inside_code=0x2e\n",
    "        else:\n",
    "            inside_code-=0xfee0\n",
    "        if inside_code<0x0020 or inside_code>0x7e:      \n",
    "            rstring += uchar\n",
    "        else:\n",
    "            rstring += chr(inside_code)\n",
    "    return rstring"
   ]
  },
  {
   "cell_type": "code",
   "execution_count": 33,
   "metadata": {},
   "outputs": [],
   "source": [
    "#df_content['content1'] = df_content.apply(lambda row: strQ2B(row['content1']), axis = 1)"
   ]
  },
  {
   "cell_type": "markdown",
   "metadata": {},
   "source": [
    "## Merge to One String"
   ]
  },
  {
   "cell_type": "code",
   "execution_count": 34,
   "metadata": {},
   "outputs": [],
   "source": [
    "df_list = df_content['content'].tolist()"
   ]
  },
  {
   "cell_type": "code",
   "execution_count": 35,
   "metadata": {},
   "outputs": [],
   "source": [
    "#合併\n",
    "df_all_in_one = '\\n'.join(df_list)\n",
    "df_all_in_one = ''.join(df_all_in_one.split())"
   ]
  },
  {
   "cell_type": "code",
   "execution_count": 36,
   "metadata": {},
   "outputs": [
    {
     "data": {
      "text/plain": [
       "'【昌河汽车将推2款新车】与北汽集团整车事业本部副本部长、江西昌河汽车有限责任公司副总经理廖雄辉沟通后获悉：“昌河汽车在上海车展发布了全新福瑞达M50S并公布了首款SUV车型，两款车都将于年内上市。“这天我差点出事哦，我去买烧烤，公交车，我看到个人像鬼，多少路我忘记了，后来跟着个杨洋的什么广告，我心定了//@张若昀:一杯不会止一杯【广菲克产销分离JEEP国产在即】在4月20日举办的上海国际车展上，广菲克展出了包括菲翔米兰典藏版、致悦Cross概念车、致悦Mefisto概念车、菲翔跃享版、致悦豪华运动版和菲亚特500等在内的8款车型。而这也是广菲克销售公司挂牌前，在“家门口”的第一次联合演出。消防车🚒//@APP菌:哈哈哈哈哈哈哈哈谈个恋爱还不够生气的//@一个阿呆仔:学猪叫那个真笑出猪声[允悲]//@梨园西池水:哈哈哈哈哈哈哈哈哈哈//@太皇太后您有喜啦:哈哈哈哈哈哈哈哈哈怎么这么好笑ˊ_>ˋ【微电影|无处可逃】2017年10月31日上午，[xkl达达黑暗]杨辰和孙彬两位小伙子相约到盐城市城市商业中心——万达广场游玩，他们在大门口等待商场开门时……[47]【动画电影集散地原创】の《The'"
      ]
     },
     "execution_count": 36,
     "metadata": {},
     "output_type": "execute_result"
    }
   ],
   "source": [
    "df_all_in_one[0:500]"
   ]
  },
  {
   "cell_type": "code",
   "execution_count": 37,
   "metadata": {},
   "outputs": [
    {
     "name": "stderr",
     "output_type": "stream",
     "text": [
      "ERROR:root:Internal Python error in the inspect module.\n",
      "Below is the traceback from this internal error.\n",
      "\n"
     ]
    },
    {
     "name": "stdout",
     "output_type": "stream",
     "text": [
      "Traceback (most recent call last):\n",
      "  File \"/Users/sophia.gao/.pyenv/versions/miniconda2-latest/envs/py36/lib/python3.6/site-packages/IPython/core/interactiveshell.py\", line 2910, in run_code\n",
      "    exec(code_obj, self.user_global_ns, self.user_ns)\n",
      "  File \"<ipython-input-37-5f6e8518b47c>\", line 3, in <module>\n",
      "    df_all_in_one = openCC.convert(df_all_in_one).lower()\n",
      "  File \"/Users/sophia.gao/Workspace/JupyterNotebook/NLP/opencc-python-master/opencc/opencc.py\", line 71, in convert\n",
      "    result.append(self._convert(split_string_list[i], self._dict_chain_data))\n",
      "  File \"/Users/sophia.gao/Workspace/JupyterNotebook/NLP/opencc-python-master/opencc/opencc.py\", line 101, in _convert\n",
      "    tree = StringTree(self._convert(\"\".join(tree.inorder()), c_dict, True))\n",
      "  File \"/Users/sophia.gao/Workspace/JupyterNotebook/NLP/opencc-python-master/opencc/opencc.py\", line 93, in _convert\n",
      "    tree.convert_tree(c_dict)\n",
      "  File \"/Users/sophia.gao/Workspace/JupyterNotebook/NLP/opencc-python-master/opencc/opencc.py\", line 217, in convert_tree\n",
      "    self.right.convert_tree(test_dict)\n",
      "  File \"/Users/sophia.gao/Workspace/JupyterNotebook/NLP/opencc-python-master/opencc/opencc.py\", line 217, in convert_tree\n",
      "    self.right.convert_tree(test_dict)\n",
      "  File \"/Users/sophia.gao/Workspace/JupyterNotebook/NLP/opencc-python-master/opencc/opencc.py\", line 217, in convert_tree\n",
      "    self.right.convert_tree(test_dict)\n",
      "  [Previous line repeated 4 more times]\n",
      "  File \"/Users/sophia.gao/Workspace/JupyterNotebook/NLP/opencc-python-master/opencc/opencc.py\", line 208, in convert_tree\n",
      "    if self.string[i:i+test_len] in test_dict:\n",
      "KeyboardInterrupt\n",
      "\n",
      "During handling of the above exception, another exception occurred:\n",
      "\n",
      "Traceback (most recent call last):\n",
      "  File \"/Users/sophia.gao/.pyenv/versions/miniconda2-latest/envs/py36/lib/python3.6/site-packages/IPython/core/interactiveshell.py\", line 1828, in showtraceback\n",
      "    stb = value._render_traceback_()\n",
      "AttributeError: 'KeyboardInterrupt' object has no attribute '_render_traceback_'\n",
      "\n",
      "During handling of the above exception, another exception occurred:\n",
      "\n",
      "Traceback (most recent call last):\n",
      "  File \"/Users/sophia.gao/.pyenv/versions/miniconda2-latest/envs/py36/lib/python3.6/site-packages/IPython/core/ultratb.py\", line 1090, in get_records\n",
      "    return _fixed_getinnerframes(etb, number_of_lines_of_context, tb_offset)\n",
      "  File \"/Users/sophia.gao/.pyenv/versions/miniconda2-latest/envs/py36/lib/python3.6/site-packages/IPython/core/ultratb.py\", line 311, in wrapped\n",
      "    return f(*args, **kwargs)\n",
      "  File \"/Users/sophia.gao/.pyenv/versions/miniconda2-latest/envs/py36/lib/python3.6/site-packages/IPython/core/ultratb.py\", line 345, in _fixed_getinnerframes\n",
      "    records = fix_frame_records_filenames(inspect.getinnerframes(etb, context))\n",
      "  File \"/Users/sophia.gao/.pyenv/versions/miniconda2-latest/envs/py36/lib/python3.6/inspect.py\", line 1480, in getinnerframes\n",
      "    frameinfo = (tb.tb_frame,) + getframeinfo(tb, context)\n",
      "  File \"/Users/sophia.gao/.pyenv/versions/miniconda2-latest/envs/py36/lib/python3.6/inspect.py\", line 1438, in getframeinfo\n",
      "    filename = getsourcefile(frame) or getfile(frame)\n",
      "  File \"/Users/sophia.gao/.pyenv/versions/miniconda2-latest/envs/py36/lib/python3.6/inspect.py\", line 693, in getsourcefile\n",
      "    if getattr(getmodule(object, filename), '__loader__', None) is not None:\n",
      "  File \"/Users/sophia.gao/.pyenv/versions/miniconda2-latest/envs/py36/lib/python3.6/inspect.py\", line 729, in getmodule\n",
      "    for modname, module in list(sys.modules.items()):\n",
      "KeyboardInterrupt\n"
     ]
    },
    {
     "ename": "KeyboardInterrupt",
     "evalue": "",
     "output_type": "error",
     "traceback": [
      "\u001b[0;31m-------------------------------------------------------------------------\u001b[0m"
     ]
    }
   ],
   "source": [
    "#繁簡/大小寫\n",
    "openCC = OpenCC('t2s')\n",
    "df_all_in_one = openCC.convert(df_all_in_one).lower()"
   ]
  },
  {
   "cell_type": "code",
   "execution_count": 38,
   "metadata": {},
   "outputs": [
    {
     "data": {
      "text/plain": [
       "\"EPS0.14元,同比增...t.cn/zOllifE乐视网停牌9个月了，贾跃亭也走了，乐视网的朋友也早在危机之前跳到了万达信息，看近期的公告，乐视网已经做好复盘准备工作，就等待jgc一声令下了。复牌不远了，复牌几个跌停板大家猜的很尽兴。多家基金公司给出仅为3.91元左右的估值，停牌的收盘价是15.33元，这家四分三，还是四分之一了。估算...http://m.weibo.cn/client/version今天和我妈去街对面的小火锅店吃饭吃完回来过长城花园门前的十字路口斑马线两旁还闪着黄色信号灯我妈说现在银川厉害了过有摄像头的斑马线都要让行人的然后拉着我说过过过肯定都得停已经走到马路中心一辆车完全不带任何减速开过来然后我站住了…当时瞬间的想法是跑两步也肯定被撞不动也是被撞...http://m.weibo.cn/client/version在日益倡导环保的今天，混合动力的车也越来越普及。这款混合动力的电动车由一家以研发新能源为主的公司研发。车身上配有三块太阳能光电板和一个396W的电池组，足够日常的上班和买菜需要。宁波鄞州万达车展，1月6号到14号要兼职9人，8女1男，早九晚十(正式一般十点开始），连做。女生负责发传单，收集资料，男生负责擦车，150一天，外加20饭补。另外还需要有单反在拍照人员，不用专业，250一天，所有岗位轮休，工作不累，要求简单，有时间的兼职来报名。联系微信电话同15757830029....http://m.weibo.cn/client/version受益于低利率和通货膨胀的影响！不过伴随着东盟计划2018年取消该地区各成员国间的进口关税：越南车市需求不断增长，越南本土车企将面临国外车企的竞争，【越南车市需求强劲国外车企或成大赢家】据《日本经济新闻》报道http://t.cn/R6tDNm2低学历宝妈---CICI92年，25岁在从事微商之前在外打工4年，初中学历，换过无数的工作2014年22岁的CICI用一个月的房租450元拿了5个美痘人正式成为向日葵！从最低级别到官方，一赚到钱就升级，这样钱滚钱，到现在房产多套有车有工作室还有存款！下午看完电影去万达等基友考完六级约饭[跪了]基友看到我说我今天画个妆跟被打了一样。。。手残怪我咯[跪了]去了个音乐餐厅，[bm讨论]#属于我的金球时刻#以为是西餐。。。[跪了]然而打开菜单是干锅烧烤烤鱼。。。[跪了]逛完商场【戴姆勒84万辆车存伤亡隐患在美召回】本次召回范围内的部分车辆由于供应商制造问题，驾驶员及副驾驶员安装的气囊可能存在制造缺陷，导致在车辆发生碰撞引起气囊打开时造成气囊气体发生器破裂。气囊气体发生器的零件飞出划伤乘员，进一步导致对乘客的伤害，存在安全隐患。从财政部宝宝宝宝宝宝宝宝宝宝宝宝12分钟急送病人！吉林交警开辟雨中“绿色通道”4月24日，[阴险][阴险][阴险]#大雪冬至定档1月25日#天空下着雨，9时45分，龙潭大队荒山中队中队长张亮接到电台里指挥中心指令，一名80岁心梗患者乘坐吉BY4255白色丰田吉普车，正由蛟河市天岗看完吐槽我竟然燃起了看龙日一浪漫是一袭美丽的晚礼服，但你不能一天到晚都穿着它啊。我们发现您刚刚发生了一笔境外网站消费、这里是工商银行……请问是您亲自操作的吗！金额为8788元……骗子。用了这么久平安银行都还不知道这些福利？用了这么久平安银行都还不知道这些福利？http://t.cn/R8wUZuQ中国人民银行今日早间发布消息表示，目前银行体系流动性总量较高，可吸收央行逆回购到期等因素的影响，今日不开展公开市场操作。这已经是央行连续第四个交易日不开展公开市场操作。而今日，则有700亿元逆回购到期，意味着今日市场实现净回笼700亿元http://t.cn/RNBluO7[呵呵]@万达百货@万达集团@王思聪余生请多指教http://t.cn/RJLJBbU阳奉阴违美国财政部上月公布的卫星图片显示，在黄海附近的公海上，中国和朝鲜的船只连接在一起，疑似在交易石油！#林峯#[音乐]#林峯大泼猴#171231南昌万达乐园抖音跨年夜林峯（爱在记忆中找你）（HeartAttack）（TheFeelin'）@林峯http://t.cn/RHNljmX【今天央行发行3元10元硬币快看看长啥样？】中国人民银行决定：自2017年12月15日起，陆续发行2018年贺岁纪念币一套。该套纪念币共2枚，其中银质纪念币1枚，双色铜合金纪念币1枚，均为中华人民共和国法定货币。纪念币长这样↓↓↓（中国经济网）http://t.cn/RToZaKm【警惕“刺眼”威胁迎着阳光驾车需注意】使用遮阳板；佩戴太阳镜；挡风玻璃处不要放置车证等反光物品；中控台不要放置手机、矿泉水等可能会反光的物品；若前车反光要远离；保持挡风玻璃清洁；使用中控台防反光垫；拉大跟车距离；在阴影和阳光\""
      ]
     },
     "execution_count": 38,
     "metadata": {},
     "output_type": "execute_result"
    }
   ],
   "source": [
    "df_all_in_one[8000:10000]"
   ]
  },
  {
   "cell_type": "code",
   "execution_count": 39,
   "metadata": {},
   "outputs": [],
   "source": [
    "sent_pattern = u\"[\\u0030-\\u0039\\u4e00-\\u9fa5\\u3040-\\u309f\\u30a0-\\u30ff\\u2000-\\u2025\\u2027\\u206f\\u3000-\\u3001\\u3003-\\u3009\\u3012-\\u303f\\uff00\\uff02-\\uff1f\\uff20-\\uffef]+[\\u3002|\\uff1f|\\uff01|\\u3010|\\u3011|\\u2026]+\"\n",
    "tag_pattern = u\"\\u0023+[\\w\\W\\u0020-\\u007f\\u4e00-\\u9fa5\\u3040-\\u309f\\u30a0-\\u30ff]+?\\u0023\"\n",
    "id_pattern = u\"\\u0040+[\\w\\W\\u0020-\\u007f\\u4e00-\\u9fa5\\u3040-\\u309f\\u30a0-\\u30ff]+?\\u003A\"\n",
    "url_pattern = \"http[s]?://(?:[a-zA-Z]|[0-9]|[$-_@.&+]|[!*\\(\\),]|(?:%[0-9a-fA-F][0-9a-fA-F]))+\"\n",
    "url_pattern1 = \"//(?:[a-zA-Z]|[0-9]|[$-_@.&+]|[!*\\(\\),]|(?:%[0-9a-fA-F][0-9a-fA-F]))+\"\n",
    "mail_pattern = \"^\\\\s*\\\\w+(?:\\\\.{0,1}[\\\\w-]+)*@[a-zA-Z0-9]+(?:[-.][a-zA-Z0-9]+)*\\\\.[a-zA-Z]+\\\\s*$\"\n",
    "other_emoji = u\"\\[+[\\u0020-\\u007f\\u4e00-\\u9fa5\\u3040-\\u309f\\u30a0-\\u30ff]+?\\]\""
   ]
  },
  {
   "cell_type": "code",
   "execution_count": 40,
   "metadata": {},
   "outputs": [
    {
     "data": {
      "text/plain": [
       "['微电影|',\n",
       " '无处可逃】',\n",
       " '杨辰和孙彬两位小伙子相约到盐城市城市商业中心——万达广场游玩，他们在大门口等待商场开门时……',\n",
       " '动画电影集散地原创】']"
      ]
     },
     "execution_count": 40,
     "metadata": {},
     "output_type": "execute_result"
    }
   ],
   "source": [
    "txt = \"@APP菌:哈哈哈哈哈哈哈哈谈个恋爱还不够生气的//@一个阿呆仔:学猪叫那个真笑出猪声[允悲]//@梨园西池水:哈哈哈哈哈哈哈哈哈哈//@太皇太后您有喜啦:哈哈哈哈哈哈哈哈哈怎么这么好笑ˊ_>ˋ【微电影|无处可逃】2017年10月31日上午，[xkl达达黑暗]杨辰和孙彬两位小伙子相约到盐城市城市商业中心——万达广场游玩，他们在大门口等待商场开门时……[47]【动画电影集散地原创】の《The\"\n",
    "re.findall(sent_pattern, txt)"
   ]
  },
  {
   "cell_type": "code",
   "execution_count": 41,
   "metadata": {},
   "outputs": [],
   "source": [
    "pa = tag_pattern+'|'+id_pattern+'|'+url_pattern+'|'+mail_pattern+'|'+other_emoji+'|'+url_pattern1"
   ]
  },
  {
   "cell_type": "code",
   "execution_count": 42,
   "metadata": {},
   "outputs": [],
   "source": [
    "#忽略特定格式\n",
    "handle = re.sub(pa,'',df_all_in_one)"
   ]
  },
  {
   "cell_type": "code",
   "execution_count": 43,
   "metadata": {},
   "outputs": [],
   "source": [
    "handle_wo_emoji = extract_emojis(handle)"
   ]
  },
  {
   "cell_type": "code",
   "execution_count": 44,
   "metadata": {},
   "outputs": [
    {
     "data": {
      "text/plain": [
       "'【昌河汽车将推2款新车】与北汽集团整车事业本部副本部长、江西昌河汽车有限责任公司副总经理廖雄辉沟通后获悉：“昌河汽车在上海车展发布了全新福瑞达M50S并公布了首款SUV车型，两款车都将于年内上市。“这天我差点出事哦，我去买烧烤，公交车，我看到个人像鬼，多少路我忘记了，后来跟着个杨洋的什么广告，我心定了张若昀:一杯不会止一杯【广菲克产销分离JEEP国产在即】在4月20日举办的上海国际车展上，广菲克展出了包括菲翔米兰典藏版、致悦Cross概念车、致悦Mefisto概念车、菲翔跃享版、致悦豪华运动版和菲亚特500等在内的8款车型。而这也是广菲克销售公司挂牌前，在“家门口”的第一次联合演出。消防车菌:哈哈哈哈哈哈哈哈谈个恋爱还不够生气的一个阿呆仔:学猪叫那个真笑出猪声梨园西池水:哈哈哈哈哈哈哈哈哈哈太皇太后您有喜啦:哈哈哈哈哈哈哈哈哈怎么这么好笑ˊ_>ˋ【微电影|无处可逃】2017年10月31日上午，杨辰和孙彬两位小伙子相约到盐城市城市商业中心——万达广场游玩，他们在大门口等待商场开门时……【动画电影集散地原创】の《ThePolarExpress》〔20050121〕某天我们突然对自己曾经【BeeDragon打造完美VIP丰田皇冠】BeeDragon打造的标志性VIP风格。BeeDragon定制前保险杠，前大灯调色搭配HID雾灯，霸气的前脸，不怒自威。VIP改装车的效果总是令人惊叹。专业定制的气动悬挂，趴地下是必须的。外倾角并没有夸张到接受不了，这么一辆车停在路边，没有谁不会去多看两眼把。【MINIPACEMAN皮卡】MINI发布了PACEMANAdventureConcept概念车的官方图片。这款车仅会生产一台，目前MINI并没有计划将其量产。PACEMANAdventureConcept概念车是基于PACEMAN普通版车型改进而来的一款皮卡车型，该车采用绿色涂装，车顶配有探照灯以及置物架。人社部财政部近日联合印发了《企业年金办法》，自2018年2月1日起施行。企业缴费每年不超过工资总额的8%，企业和职工个人缴费合计不超过12%。具体由企业和职工协商确定。企业年金基金实行完全积累，为每个职工建立个人账户，按照国家有关规定投资运营；收益并入企业年金基金【科鲁兹两厢版】外观设计上，科鲁兹两厢版除了尾部设计外均与三厢版一致。全新的家族式分体格栅以及带有U型LED日间行车灯的前大'"
      ]
     },
     "execution_count": 44,
     "metadata": {},
     "output_type": "execute_result"
    }
   ],
   "source": [
    "handle_wo_emoji[0:1000]"
   ]
  },
  {
   "cell_type": "code",
   "execution_count": 52,
   "metadata": {},
   "outputs": [],
   "source": [
    "def chinese_only(line):\n",
    "    rule = re.compile(u\"[^\\u4e00-\\u9fa5]\")\n",
    "    line = rule.sub('',line)\n",
    "    return line"
   ]
  },
  {
   "cell_type": "code",
   "execution_count": 73,
   "metadata": {},
   "outputs": [],
   "source": [
    "handle_chinese = chinese_only(handle_wo_emoji) "
   ]
  },
  {
   "cell_type": "code",
   "execution_count": 74,
   "metadata": {},
   "outputs": [],
   "source": [
    "seg_list = jieba.cut(handle_chinese, cut_all=True)\n",
    "#print(\"Full Mode: \" + \"/ \".join(seg_list))  # 全模式"
   ]
  },
  {
   "cell_type": "code",
   "execution_count": 75,
   "metadata": {},
   "outputs": [],
   "source": [
    "wf=open('result.txt','w+')\n",
    "wf.write(\",\".join(seg_list))\n",
    "#print \"搜索引擎模式: \",\", \".join(seg_list)\n",
    "wf.close()"
   ]
  },
  {
   "cell_type": "code",
   "execution_count": 77,
   "metadata": {},
   "outputs": [
    {
     "ename": "NameError",
     "evalue": "name 'get_lines' is not defined",
     "output_type": "error",
     "traceback": [
      "\u001b[0;31m--------------------------------------------------------\u001b[0m",
      "\u001b[0;31mNameError\u001b[0m              Traceback (most recent call last)",
      "\u001b[0;32m<ipython-input-77-f9c587cfa56b>\u001b[0m in \u001b[0;36m<module>\u001b[0;34m()\u001b[0m\n\u001b[1;32m      1\u001b[0m \u001b[0;32mimport\u001b[0m \u001b[0mre\u001b[0m\u001b[0;34m\u001b[0m\u001b[0m\n\u001b[1;32m      2\u001b[0m \u001b[0minpath\u001b[0m \u001b[0;34m=\u001b[0m \u001b[0;34m'result.txt'\u001b[0m\u001b[0;34m\u001b[0m\u001b[0m\n\u001b[0;32m----> 3\u001b[0;31m \u001b[0mlines\u001b[0m \u001b[0;34m=\u001b[0m \u001b[0mget_lines\u001b[0m\u001b[0;34m(\u001b[0m\u001b[0minpath\u001b[0m\u001b[0;34m)\u001b[0m\u001b[0;34m\u001b[0m\u001b[0m\n\u001b[0m\u001b[1;32m      4\u001b[0m \u001b[0;32mfor\u001b[0m \u001b[0midx\u001b[0m\u001b[0;34m,\u001b[0m \u001b[0mline\u001b[0m \u001b[0;32min\u001b[0m \u001b[0menumerate\u001b[0m\u001b[0;34m(\u001b[0m\u001b[0mlines\u001b[0m\u001b[0;34m)\u001b[0m\u001b[0;34m:\u001b[0m\u001b[0;34m\u001b[0m\u001b[0m\n\u001b[1;32m      5\u001b[0m     \u001b[0;32mif\u001b[0m \u001b[0midx\u001b[0m \u001b[0;34m>\u001b[0m \u001b[0;36m10\u001b[0m\u001b[0;34m:\u001b[0m\u001b[0;34m\u001b[0m\u001b[0m\n",
      "\u001b[0;31mNameError\u001b[0m: name 'get_lines' is not defined"
     ]
    }
   ],
   "source": [
    "import re\n",
    "inpath = 'result.txt'\n",
    "lines = get_lines(inpath)\n",
    "for idx, line in enumerate(lines):\n",
    "    if idx > 10:\n",
    "        break;\n",
    "    print(line)"
   ]
  },
  {
   "cell_type": "code",
   "execution_count": null,
   "metadata": {},
   "outputs": [],
   "source": []
  }
 ],
 "metadata": {
  "kernelspec": {
   "display_name": "Python 3",
   "language": "python",
   "name": "python3"
  },
  "language_info": {
   "codemirror_mode": {
    "name": "ipython",
    "version": 3
   },
   "file_extension": ".py",
   "mimetype": "text/x-python",
   "name": "python",
   "nbconvert_exporter": "python",
   "pygments_lexer": "ipython3",
   "version": "3.6.3"
  }
 },
 "nbformat": 4,
 "nbformat_minor": 2
}
